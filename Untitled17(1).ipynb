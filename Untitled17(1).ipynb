{
 "cells": [
  {
   "cell_type": "code",
   "execution_count": null,
   "id": "d565b190",
   "metadata": {},
   "outputs": [],
   "source": [
    "1\n",
    "=    * -> Multiplication operator\n",
    "\n",
    "     'hello' -> String \n",
    "     \n",
    "     -87.8 -> Negative Float Value\n",
    "     \n",
    "     -  -> Subtraction operator\n",
    "     \n",
    "     /  -> Division operator\n",
    "     \n",
    "     + -> Addition operator\n",
    "     \n",
    "     6  -> Integer Value"
   ]
  },
  {
   "cell_type": "code",
   "execution_count": null,
   "id": "49309d9a",
   "metadata": {},
   "outputs": [],
   "source": [
    "2\n",
    "= * String is a collection of character,integer,float and special symbol.\n",
    "  * String is a Immutable Data.\n",
    "  eg->\n",
    "           str=\"KCH7\" \n",
    "           \n",
    "           In this \"KCH7\" is a string value\n",
    "  \n",
    "  * Variable is a address to data.\n",
    "  * Content in a Variable can be modified.\n",
    "  eg->\n",
    "            str=\"KCH7\"\n",
    "            \n",
    "            In this \"str\" is a variable\n",
    "  \n",
    "  "
   ]
  },
  {
   "cell_type": "code",
   "execution_count": null,
   "id": "be688697",
   "metadata": {},
   "outputs": [],
   "source": [
    "3\n",
    "=   *Numeric -> Numeric values are integer ,float or Complex number values.\n",
    "            \n",
    "        A=76765 -> Integer\n",
    "        B=9.9898 -> Floating Value\n",
    "        C=5+9i -> Complex Value\n",
    "\n",
    "    *Sequence Type -> Sequence is a collection of similar or different data types.\n",
    "                      There are different types of sequence values such as string ,list and tuple.\n",
    "                      \n",
    "                        List-> Lists are collection of different data types data.\n",
    "                               Lists are mutable.\n",
    "                               eg->\n",
    "                                            list=[3,4,6,\"str\",768]\n",
    "                            \n",
    "                        Tuple-> Tuple are collection of different data types.\n",
    "                                Tuple are immutable.\n",
    "                                eg->\n",
    "                                            tuple=(4,5,6,'str',9.6)\n",
    "    \n",
    "    \n",
    "    *Dictionary -> Dictionary is a data type which stores data in Key-Value Pair Manner\n",
    "                   Dictionary is mutable.\n",
    "                   eg->\n",
    "                                        dict={1:\"KCH\",2:\"TS\",3:\"GHt\"} \n",
    "                \n",
    "                          In this 1,2,3 are the keys and KCH,TS,GHt are the values\n",
    "                               \n",
    "        \n",
    "        "
   ]
  },
  {
   "cell_type": "code",
   "execution_count": null,
   "id": "4b592bfb",
   "metadata": {},
   "outputs": [],
   "source": [
    "4\n",
    "\n",
    "=Expression are made up of logical manner of operator and operand gives result to a variable\n",
    " In an expression,many type of mathematical operators can be used\n",
    "    eg ->\n",
    "           a = 5  \n",
    "           b = 7\n",
    "           c = 8\n",
    "            \n",
    "            d=a+b+c \n",
    "            \n",
    "            In this a,b,c are operand  and \"+\" are addition operator which execute and stores result in d."
   ]
  },
  {
   "cell_type": "code",
   "execution_count": null,
   "id": "02d43327",
   "metadata": {},
   "outputs": [],
   "source": [
    "5\n",
    "= Expression is evaluated and it gives a value in return whereas in statement it evaluate and gives a action\n",
    "  eg->Expresson\n",
    "                  r=90\n",
    "                  y=76\n",
    "                  p=04\n",
    "                  \n",
    "                  h=r+y-p\n",
    "                  \n",
    "                  In this r is added with y and the result of those is subtracted with p means\n",
    "                  \n",
    "                                       90+76-4=162 h=162\n",
    "  eg ->Statement  \n",
    "                   a=\"Go for the next step\" this indicate the user to do some action in some manner"
   ]
  },
  {
   "cell_type": "code",
   "execution_count": null,
   "id": "612e9235",
   "metadata": {},
   "outputs": [],
   "source": [
    "6\n",
    "= bacon = 22\n",
    "  bacon + 1   \n",
    "              after executing this code it will give answer as 23 but while not assign this value to bacon means bacon will remain as 22\n",
    "        "
   ]
  },
  {
   "cell_type": "code",
   "execution_count": null,
   "id": "16998c1f",
   "metadata": {},
   "outputs": [],
   "source": [
    "7\n",
    "= a='spam'+'spamspam'\n",
    "        \n",
    "             In this ,its concatinating two strings and gives the result to \"a\" a=spamspamspam\n",
    "          \n",
    "  b='spam'*3\n",
    "             In this, its repeats string 'spam' three times and gives result to 'b' b=spamspamspam"
   ]
  },
  {
   "cell_type": "code",
   "execution_count": null,
   "id": "45dc997a",
   "metadata": {},
   "outputs": [],
   "source": [
    "8\n",
    "= Eggs a valid variable name while 100 is invalid because its the rule of python to declare a variable name with character or (int and character) but not only with integer."
   ]
  },
  {
   "cell_type": "code",
   "execution_count": null,
   "id": "a6891c8c",
   "metadata": {},
   "outputs": [],
   "source": [
    "9 What three functions can be used to get the integer, floating-point number, or string\n",
    "version of a value?\n",
    "= Typecasting should be done to convert any value to integer,floating or string value\n",
    "  eg ->   int to string\n",
    "               a=9\n",
    "               b=a.__str__()\n",
    "          int to float \n",
    "           \n",
    "               b=float(a)\n",
    "                 \n",
    "          string to int\n",
    "               s=\"90\"\n",
    "               r=int(s)\n",
    "               print(r)\n",
    "             \n",
    "               "
   ]
  },
  {
   "cell_type": "code",
   "execution_count": null,
   "id": "fe01e865",
   "metadata": {},
   "outputs": [],
   "source": [
    "10.Why does this expression cause an error? How can you fix it?\n",
    " 'i have eaten'+99+'burr'\n",
    "= In python,a string can not be concatinated with integer it only concatinates wititos'h same data types but to fix this statement developer has to convert int to string to do so it has to use \" \"     "
   ]
  }
 ],
 "metadata": {
  "kernelspec": {
   "display_name": "Python 3",
   "language": "python",
   "name": "python3"
  },
  "language_info": {
   "codemirror_mode": {
    "name": "ipython",
    "version": 3
   },
   "file_extension": ".py",
   "mimetype": "text/x-python",
   "name": "python",
   "nbconvert_exporter": "python",
   "pygments_lexer": "ipython3",
   "version": "3.8.8"
  }
 },
 "nbformat": 4,
 "nbformat_minor": 5
}
